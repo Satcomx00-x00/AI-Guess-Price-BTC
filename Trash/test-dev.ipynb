{
 "cells": [
  {
   "cell_type": "code",
   "execution_count": 1,
   "metadata": {},
   "outputs": [
    {
     "ename": "ModuleNotFoundError",
     "evalue": "No module named 'talib'",
     "output_type": "error",
     "traceback": [
      "\u001b[1;31m---------------------------------------------------------------------------\u001b[0m",
      "\u001b[1;31mModuleNotFoundError\u001b[0m                       Traceback (most recent call last)",
      "Cell \u001b[1;32mIn[1], line 3\u001b[0m\n\u001b[0;32m      1\u001b[0m \u001b[39mimport\u001b[39;00m \u001b[39mpandas\u001b[39;00m \u001b[39mas\u001b[39;00m \u001b[39mpd\u001b[39;00m\n\u001b[0;32m      2\u001b[0m \u001b[39mimport\u001b[39;00m \u001b[39mnumpy\u001b[39;00m \u001b[39mas\u001b[39;00m \u001b[39mnp\u001b[39;00m\n\u001b[1;32m----> 3\u001b[0m \u001b[39mimport\u001b[39;00m \u001b[39mtalib\u001b[39;00m \u001b[39mas\u001b[39;00m \u001b[39mta\u001b[39;00m\n\u001b[0;32m      4\u001b[0m \u001b[39mimport\u001b[39;00m \u001b[39myfinance\u001b[39;00m \u001b[39mas\u001b[39;00m \u001b[39myf\u001b[39;00m\n\u001b[0;32m      5\u001b[0m \u001b[39mfrom\u001b[39;00m \u001b[39mtensorflow\u001b[39;00m\u001b[39m.\u001b[39;00m\u001b[39mkeras\u001b[39;00m\u001b[39m.\u001b[39;00m\u001b[39mmodels\u001b[39;00m \u001b[39mimport\u001b[39;00m Sequential\n",
      "\u001b[1;31mModuleNotFoundError\u001b[0m: No module named 'talib'"
     ]
    }
   ],
   "source": [
    "import pandas as pd\n",
    "import numpy as np\n",
    "import talib as ta\n",
    "import yfinance as yf\n",
    "from tensorflow.keras.models import Sequential\n",
    "from tensorflow.keras.layers import Dense, LSTM, Dropout\n",
    "from sklearn.preprocessing import MinMaxScaler\n",
    "from sklearn.model_selection import train_test_split\n",
    "import pickle\n",
    "from datetime import datetime\n",
    "from ta import add_all_ta_features"
   ]
  },
  {
   "cell_type": "code",
   "execution_count": null,
   "metadata": {},
   "outputs": [],
   "source": [
    "\n",
    "# today minus 730 days\n",
    "begin_1h = datetime.today() - pd.DateOffset(months=24)\n",
    "# today minus 30 days\n",
    "begin_5m = datetime.today() - pd.DateOffset(months=1)\n"
   ]
  },
  {
   "cell_type": "code",
   "execution_count": null,
   "metadata": {},
   "outputs": [],
   "source": [
    "def recuperer_donnees_yfinance(ticker, start, end):\n",
    "    # PANDAS READ csv\n",
    "    data = pd.read_csv(\n",
    "        r'C:\\Users\\MrBios\\Documents\\Development\\test\\csv\\bitstampUSD_1-min_data_2012-01-01_to_2021-03-31.csv',\n",
    "        dtype={\n",
    "            'Timestamp': 'int32',\n",
    "            'Open': 'float32',\n",
    "            'High': 'float32',\n",
    "            'Low': 'float32',\n",
    "            'Close': 'float32',\n",
    "            'Volume_(BTC)': 'float32',\n",
    "            'Volume_(Currency)': 'float32',\n",
    "            'Weighted_Price': 'float32'\n",
    "        })\n",
    "    # remove all rows with NaN\n",
    "    data = data.dropna()\n",
    "    # remove two last columns\n",
    "    data = data.iloc[:, :-2]\n",
    "    # print columns\n",
    "    print(data.columns)\n",
    "    # rename columns\n",
    "    data.columns = ['Timestamp', 'Open', 'High', 'Low', 'Close', 'Volume']\n",
    "\n",
    "    # data = yf.download(ticker, start=begin_1h, interval=\"60m\")\n",
    "    return data"
   ]
  },
  {
   "cell_type": "code",
   "execution_count": null,
   "metadata": {},
   "outputs": [],
   "source": [
    "Offset = 1\n",
    "# Récupérer les données\n",
    "ticker = 'BTC-USD'\n",
    "start = '2015-01-01'\n",
    "end = (datetime.now() - pd.DateOffset(months=Offset)).strftime(\"%Y-%m-%d\")\n",
    "donnees = recuperer_donnees_yfinance(ticker, start, end)\n",
    "print(f\"len(donnees) = {len(donnees)}\")\n",
    "print(donnees.tail(5))"
   ]
  }
 ],
 "metadata": {
  "kernelspec": {
   "display_name": "Python 3",
   "language": "python",
   "name": "python3"
  },
  "language_info": {
   "codemirror_mode": {
    "name": "ipython",
    "version": 3
   },
   "file_extension": ".py",
   "mimetype": "text/x-python",
   "name": "python",
   "nbconvert_exporter": "python",
   "pygments_lexer": "ipython3",
   "version": "3.10.0"
  },
  "orig_nbformat": 4
 },
 "nbformat": 4,
 "nbformat_minor": 2
}
