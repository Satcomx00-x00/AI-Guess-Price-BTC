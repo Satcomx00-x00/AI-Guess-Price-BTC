{
 "cells": [
  {
   "cell_type": "code",
   "execution_count": 225,
   "metadata": {},
   "outputs": [],
   "source": [
    "import os\n",
    "import numpy as np\n",
    "import pandas as pd\n",
    "import matplotlib.pyplot as plt\n",
    "from sklearn.preprocessing import MinMaxScaler\n",
    "from sklearn.metrics import mean_squared_error\n",
    "from tensorflow.keras.models import Sequential\n",
    "from tensorflow.keras.layers import LSTM, Dense, Dropout\n",
    "from sklearn.model_selection import train_test_split\n",
    "from datetime import datetime\n",
    "import ta\n",
    "import mplfinance as mpf\n",
    "\n",
    "# import tensorflow.compat.v1.keras.layers.CuDNNLSTM as CuDNNLSTM"
   ]
  },
  {
   "cell_type": "code",
   "execution_count": 226,
   "metadata": {},
   "outputs": [
    {
     "name": "stdout",
     "output_type": "stream",
     "text": [
      "1 Physical GPUs, 1 Logical GPU\n"
     ]
    }
   ],
   "source": [
    "import tensorflow as tf\n",
    "\n",
    "# Set TensorFlow to only allocate memory on the GPU when needed\n",
    "gpus = tf.config.list_physical_devices('GPU')\n",
    "if gpus:\n",
    "    try:\n",
    "        # Restrict TensorFlow to only use the first GPU\n",
    "        tf.config.set_visible_devices(gpus[0], 'GPU')\n",
    "        logical_gpus = tf.config.list_logical_devices('GPU')\n",
    "        print(len(gpus), \"Physical GPUs,\", len(logical_gpus), \"Logical GPU\")\n",
    "    except RuntimeError as e:\n",
    "        print(e)"
   ]
  },
  {
   "cell_type": "code",
   "execution_count": 227,
   "metadata": {},
   "outputs": [],
   "source": [
    "# Load the Bitcoin price data\n",
    "bitcoin_data = pd.read_csv(r'C:\\Users\\MrBios\\Documents\\Development\\IA-BTC-2023\\csv\\bitstampUSD_1-min_data_2012-01-01_to_2021-03-31.csv')\n",
    "\n",
    "# Drop missing values\n",
    "bitcoin_data.dropna(inplace=True)\n"
   ]
  },
  {
   "cell_type": "code",
   "execution_count": 228,
   "metadata": {},
   "outputs": [],
   "source": [
    "# Keep the necessary columns\n",
    "bitcoin_data = bitcoin_data[['Timestamp', 'Open', 'High', 'Low', 'Close']]\n",
    "\n",
    "bitcoin_data = bitcoin_data.tail(10000)"
   ]
  },
  {
   "cell_type": "code",
   "execution_count": 229,
   "metadata": {},
   "outputs": [],
   "source": [
    "# Convert Timestamp to datetime format\n",
    "bitcoin_data['Timestamp'] = pd.to_datetime(bitcoin_data['Timestamp'], unit='s')\n",
    "\n",
    "# Compute RSI\n",
    "bitcoin_data['RSI'] = ta.momentum.rsi(close=bitcoin_data[\"Close\"], fillna=True)\n",
    "\n",
    "# Compute MACD\n",
    "bitcoin_data['MACD'] = ta.trend.macd(close=bitcoin_data[\"Close\"], fillna=True)\n",
    "bitcoin_data['MACD_signal'] = ta.trend.macd_signal(close=bitcoin_data[\"Close\"], fillna=True)\n",
    "bitcoin_data['MACD_diff'] = ta.trend.macd_diff(close=bitcoin_data[\"Close\"], fillna=True)\n"
   ]
  },
  {
   "cell_type": "code",
   "execution_count": 230,
   "metadata": {},
   "outputs": [],
   "source": [
    "# Prepare the data for training\n",
    "# Prepare the data for training\n",
    "scaler = MinMaxScaler(feature_range=(0, 1))\n",
    "scaled_data = scaler.fit_transform(bitcoin_data[['Open', 'High', 'Low', 'Close']])\n",
    "# scaled_data = scaler.fit_transform(bitcoin_data[['Open', 'High', 'Low', 'Close', 'Volume_(BTC)', 'Volume_(Currency)', 'RSI', 'MACD', 'MACD_signal', 'MACD_diff']])\n",
    "scaled_data = scaler.fit_transform(bitcoin_data.drop(columns=['Timestamp']))\n"
   ]
  },
  {
   "cell_type": "code",
   "execution_count": 231,
   "metadata": {},
   "outputs": [],
   "source": [
    "timeframe = 60\n",
    "num_features = scaled_data.shape[1]"
   ]
  },
  {
   "cell_type": "code",
   "execution_count": 232,
   "metadata": {},
   "outputs": [],
   "source": [
    "timeframe = 60\n",
    "X = []\n",
    "y = []\n",
    "for i in range(timeframe, len(scaled_data) - 60):\n",
    "    X.append(scaled_data[i - timeframe:i, :])\n",
    "    y.append(scaled_data[i:i + 60, :4])  # Predicting OHLC columns\n",
    "X = np.array(X)\n",
    "y = np.array(y)"
   ]
  },
  {
   "cell_type": "code",
   "execution_count": 233,
   "metadata": {},
   "outputs": [
    {
     "data": {
      "text/plain": [
       "((9880, 60, 8), (9880, 60, 4))"
      ]
     },
     "execution_count": 233,
     "metadata": {},
     "output_type": "execute_result"
    }
   ],
   "source": [
    "X.shape, y.shape"
   ]
  },
  {
   "cell_type": "code",
   "execution_count": 234,
   "metadata": {},
   "outputs": [],
   "source": [
    "# Split the data into training and testing sets\n",
    "X_train, X_test, y_train, y_test = train_test_split(X, y[:, -1, :], test_size=0.2, random_state=42)\n",
    "\n",
    "# Reshape y_train and y_test\n",
    "y_train = np.reshape(y_train, (y_train.shape[0], 1, y_train.shape[1]))\n",
    "y_test = np.reshape(y_test, (y_test.shape[0], 1, y_test.shape[1]))"
   ]
  },
  {
   "cell_type": "code",
   "execution_count": 235,
   "metadata": {},
   "outputs": [],
   "source": [
    "# Build the LSTM model\n",
    "model = Sequential()\n",
    "model.add(LSTM(units=50, return_sequences=True, input_shape=(X_train.shape[1], X_train.shape[2])))\n",
    "model.add(Dropout(0.2))\n",
    "model.add(LSTM(units=50, return_sequences=True))\n",
    "model.add(Dropout(0.2))\n",
    "model.add(LSTM(units=50))\n",
    "model.add(Dropout(0.2))\n",
    "model.add(Dense(units=4))  # Output 4 units for OHLC"
   ]
  },
  {
   "cell_type": "code",
   "execution_count": 236,
   "metadata": {},
   "outputs": [],
   "source": [
    "model.compile(optimizer='adam', loss='mean_squared_error')"
   ]
  },
  {
   "cell_type": "code",
   "execution_count": 237,
   "metadata": {},
   "outputs": [
    {
     "data": {
      "text/plain": [
       "((7904, 60, 8), (7904, 1, 4), (1976, 60, 8), (1976, 1, 4))"
      ]
     },
     "execution_count": 237,
     "metadata": {},
     "output_type": "execute_result"
    }
   ],
   "source": [
    "X_train.shape, y_train.shape, X_test.shape, y_test.shape"
   ]
  },
  {
   "cell_type": "code",
   "execution_count": 238,
   "metadata": {},
   "outputs": [
    {
     "name": "stdout",
     "output_type": "stream",
     "text": [
      "Epoch 1/50\n",
      "124/124 [==============================] - 4s 18ms/step - loss: 0.0750 - val_loss: 0.0584\n",
      "Epoch 2/50\n",
      "124/124 [==============================] - 1s 11ms/step - loss: 0.0635 - val_loss: 0.0577\n",
      "Epoch 3/50\n",
      "124/124 [==============================] - 1s 11ms/step - loss: 0.0617 - val_loss: 0.0580\n",
      "Epoch 4/50\n",
      "124/124 [==============================] - 1s 11ms/step - loss: 0.0611 - val_loss: 0.0585\n",
      "Epoch 5/50\n",
      "124/124 [==============================] - 1s 11ms/step - loss: 0.0604 - val_loss: 0.0577\n",
      "Epoch 6/50\n",
      "124/124 [==============================] - 1s 12ms/step - loss: 0.0602 - val_loss: 0.0582\n",
      "Epoch 7/50\n",
      "124/124 [==============================] - 1s 12ms/step - loss: 0.0598 - val_loss: 0.0576\n",
      "Epoch 8/50\n",
      "104/124 [========================>.....] - ETA: 0s - loss: 0.0597"
     ]
    }
   ],
   "source": [
    "# Train the model\n",
    "model.fit(X_train, y_train, epochs=50, batch_size=64, validation_data=(X_test, y_test))\n"
   ]
  },
  {
   "cell_type": "code",
   "execution_count": null,
   "metadata": {},
   "outputs": [],
   "source": [
    "# Save the model and weights\n",
    "version = \"V6\"\n",
    "now = datetime.now()\n",
    "format_date = now.strftime(\"%Y-%m-%d-%H-%M\")\n",
    "model.save(f'{version}/models/2-{version}-model_{format_date}.h5')\n",
    "model.save_weights(f'{version}/models/2-{version}-weights_{format_date}.h5')\n"
   ]
  },
  {
   "cell_type": "code",
   "execution_count": null,
   "metadata": {},
   "outputs": [],
   "source": [
    "# Make predictions\n",
    "predictions = model.predict(X_test)"
   ]
  },
  {
   "cell_type": "code",
   "execution_count": null,
   "metadata": {},
   "outputs": [],
   "source": [
    "predictions.shape"
   ]
  },
  {
   "cell_type": "code",
   "execution_count": null,
   "metadata": {},
   "outputs": [],
   "source": [
    "# Scale the predictions back to original values\n",
    "predictions_scaled = scaler.inverse_transform(predictions.reshape(-1, num_features))\n"
   ]
  },
  {
   "cell_type": "code",
   "execution_count": null,
   "metadata": {},
   "outputs": [],
   "source": [
    "# Reshape the predictions_scaled array back to its original shape\n",
    "predictions_scaled = predictions_scaled.reshape(predictions.shape)"
   ]
  },
  {
   "cell_type": "code",
   "execution_count": null,
   "metadata": {},
   "outputs": [],
   "source": [
    "# Reshape y_test array to match the shape of predictions_scaled\n",
    "y_test_reshaped = y_test.reshape(-1, num_features)"
   ]
  },
  {
   "cell_type": "code",
   "execution_count": null,
   "metadata": {},
   "outputs": [],
   "source": [
    "# Scale y_test_reshaped back to original values\n",
    "y_test_scaled = scaler.inverse_transform(y_test_reshaped)"
   ]
  },
  {
   "cell_type": "code",
   "execution_count": null,
   "metadata": {},
   "outputs": [],
   "source": [
    "# Reshape y_test_scaled back to its original shape\n",
    "y_test_scaled = y_test_scaled.reshape(y_test.shape)"
   ]
  },
  {
   "cell_type": "code",
   "execution_count": null,
   "metadata": {},
   "outputs": [],
   "source": [
    "predictions.shape, y_test_reshaped.shape"
   ]
  },
  {
   "cell_type": "code",
   "execution_count": null,
   "metadata": {},
   "outputs": [],
   "source": [
    "# Import the necessary libraries\n",
    "import mplfinance as mpf\n",
    "\n",
    "# Convert predictions_scaled to a DataFrame\n",
    "predictions_df = pd.DataFrame(predictions_scaled[-20:], columns=['Open', 'High', 'Low', 'Close'])\n",
    "\n",
    "# Create a DataFrame with the timestamps for the last 100 data points\n",
    "timestamps = last_100_actual_df.index[-20:]\n",
    "timestamps_df = pd.DataFrame(timestamps, columns=['Date'])\n",
    "\n",
    "# Concatenate the timestamps DataFrame with the predictions DataFrame\n",
    "predictions_df = pd.concat([timestamps_df, predictions_df], axis=1)\n",
    "\n",
    "# Convert the index of predictions_df to DatetimeIndex\n",
    "predictions_df.index = pd.to_datetime(predictions_df.index)\n",
    "\n",
    "# Plot the predicted OHLC candles\n",
    "mpf.plot(predictions_df, type='candle', style='yahoo', title='Predicted OHLC Candles', ylabel='Price')"
   ]
  },
  {
   "cell_type": "code",
   "execution_count": null,
   "metadata": {},
   "outputs": [],
   "source": [
    "# # Scale the predictions back to original values\n",
    "# predictions = scaler.inverse_transform(predictions)\n",
    "# y_test_reshaped = scaler.inverse_transform(y_test_reshaped)\n",
    "\n",
    "# # Reshape y_test_reshaped back to its original shape\n",
    "# y_test_reshaped = np.reshape(y_test_reshaped, (y_test.shape[0], y_test.shape[1], y_test.shape[2]))"
   ]
  },
  {
   "cell_type": "code",
   "execution_count": null,
   "metadata": {},
   "outputs": [],
   "source": [
    "import ccxt\n",
    "from datetime import datetime, timedelta\n",
    "timeframe = '1m'\n",
    "symbol = 'BTC/USDT'\n",
    "minutes = 120 \n",
    "since = datetime.now() - timedelta(minutes=minutes)\n",
    "since = int(since.timestamp() * 1000)\n",
    "limit = minutes+1\n",
    "show_more_graph = False\n",
    "exchange = ccxt.binance()"
   ]
  },
  {
   "cell_type": "code",
   "execution_count": null,
   "metadata": {},
   "outputs": [],
   "source": [
    "last_60_minutes = exchange.fetch_ohlcv('BTC/USDT', timeframe=timeframe, since=since, limit=limit)\n",
    "last_60_minutes = pd.DataFrame(last_60_minutes, columns=['Timestamp', 'Open', 'High', 'Low', 'Close', 'Volume'])\n",
    "last_60_minutes['Timestamp'] = pd.to_datetime(last_60_minutes['Timestamp'], unit='ms')\n",
    "# drop Volume column\n",
    "last_60_minutes.drop(columns=['Volume'], inplace=True)\n",
    "last_60_minutes.set_index('Timestamp', inplace=True)\n",
    "last_60_minutes.index = last_60_minutes.index + pd.DateOffset(hours=2)\n",
    "last_60_minutes.tail(1)"
   ]
  },
  {
   "cell_type": "code",
   "execution_count": null,
   "metadata": {},
   "outputs": [],
   "source": [
    "# Scale the data to be values between 0 and 1\n",
    "last_60_minutes_scaled = scaler.fit_transform(last_60_minutes[['Open', 'High', 'Low', 'Close']])\n",
    "\n",
    "# Reshape the data into the shape accepted by the LSTM model\n",
    "last_60_minutes_scaled = np.reshape(last_60_minutes_scaled, (1, last_60_minutes_scaled.shape[0], last_60_minutes_scaled.shape[1]))\n",
    "\n",
    "# Make predictions using the LSTM model\n",
    "pred = model.predict(last_60_minutes_scaled)\n",
    "# Inverse transform the predictions to the original scale\n",
    "pred = scaler.inverse_transform(pred)\n",
    "print(pred)"
   ]
  },
  {
   "cell_type": "code",
   "execution_count": null,
   "metadata": {},
   "outputs": [],
   "source": [
    "# plot with matplotlib\n",
    "import matplotlib.pyplot as plt\n",
    "plt.plot(pred[0], label='Predicted')\n",
    "plt.plot(last_60_minutes.iloc[-1], label='Actual')\n",
    "plt.legend()\n",
    "plt.show()"
   ]
  },
  {
   "cell_type": "code",
   "execution_count": null,
   "metadata": {},
   "outputs": [],
   "source": [
    "import mplfinance as mpf\n",
    "\n",
    "window = 60\n",
    "\n",
    "# Extract the last 100 data points\n",
    "last_100_actual = last_60_minutes[-window:]\n",
    "last_100_predicted = pred[-window:]\n",
    "\n",
    "# Convert the data to a DataFrame with DatetimeIndex\n",
    "last_100_actual_df = pd.DataFrame(last_100_actual, columns=['Open', 'High', 'Low', 'Close'])\n",
    "last_100_actual_df.index = last_100_actual.index\n",
    "last_100_predicted_df = pd.DataFrame(last_100_predicted, columns=['Open', 'High', 'Low', 'Close'])\n",
    "last_100_predicted_df.index = last_100_actual.index[-len(last_100_predicted):]  # Use the index of last_100_actual\n",
    "# concatenate the last_100_actual_df and last_100_predicted_df along columns\n",
    "last_100_df = pd.concat([last_100_actual_df, last_100_predicted_df], axis=1)\n",
    "\n",
    "\n",
    "# Convert the \"Open\" column to float type\n",
    "last_100_actual_df['Open'] = last_100_actual_df['Open'].astype(float)\n",
    "last_100_predicted_df['Open'] = last_100_predicted_df['Open'].astype(float)\n",
    "\n",
    "# Plot the actual and predicted OHLC candles with different styles\n",
    "mpf.plot(last_100_actual_df, type='candle', style='yahoo', title='Actual OHLC Candles', ylabel='Price')\n",
    "mpf.plot(last_100_predicted_df, type='candle', style='charles', title='Predicted OHLC Candles', ylabel='Price')\n"
   ]
  },
  {
   "cell_type": "code",
   "execution_count": null,
   "metadata": {},
   "outputs": [],
   "source": [
    "import mplfinance as mpf\n",
    "# Create a DataFrame for the real data\n",
    "real_data = bitcoin_data[['Timestamp', 'Open', 'High', 'Low', 'Close']]\n",
    "real_data.columns = ['Date', 'Open', 'High', 'Low', 'Close']\n",
    "real_data.set_index('Date', inplace=True)\n",
    "\n",
    "# Create a DataFrame for the predicted data\n",
    "predicted_data = pd.DataFrame(predictions, columns=['Open', 'High', 'Low', 'Close'])\n",
    "predicted_data.index = real_data.index[-len(predicted_data):]  # Set the same index as the real data\n",
    "\n",
    "# Concatenate the real and predicted data into a single DataFrame\n",
    "combined_data = pd.concat([real_data[-100:], predicted_data], axis=0)\n"
   ]
  },
  {
   "cell_type": "code",
   "execution_count": null,
   "metadata": {},
   "outputs": [],
   "source": [
    "# Define the style for the plot\n",
    "style = mpf.make_mpf_style(base_mpf_style='yahoo', gridstyle=':', y_on_right=True)\n"
   ]
  },
  {
   "cell_type": "code",
   "execution_count": null,
   "metadata": {},
   "outputs": [],
   "source": [
    "# Plot the data using mplfinance\n",
    "mpf.plot(combined_data, type='line', style=style, title='Bitcoin Price', ylabel='Price', ylabel_lower='Volume')\n"
   ]
  }
 ],
 "metadata": {
  "kernelspec": {
   "display_name": "base",
   "language": "python",
   "name": "python3"
  },
  "language_info": {
   "codemirror_mode": {
    "name": "ipython",
    "version": 3
   },
   "file_extension": ".py",
   "mimetype": "text/x-python",
   "name": "python",
   "nbconvert_exporter": "python",
   "pygments_lexer": "ipython3",
   "version": "3.8.10"
  },
  "orig_nbformat": 4
 },
 "nbformat": 4,
 "nbformat_minor": 2
}
