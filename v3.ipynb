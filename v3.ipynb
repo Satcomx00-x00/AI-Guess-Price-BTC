{
 "cells": [
  {
   "cell_type": "code",
   "execution_count": 71,
   "metadata": {},
   "outputs": [],
   "source": [
    "# %pip install tensorflow==2.12.0 scikit-learn numpy pandas==1.5.2 rich==13.3.3 matplotlib\n"
   ]
  },
  {
   "cell_type": "code",
   "execution_count": 72,
   "metadata": {},
   "outputs": [],
   "source": [
    "# %pip install ta==0.10.2 yfinance==0.2.13"
   ]
  },
  {
   "cell_type": "code",
   "execution_count": 73,
   "metadata": {},
   "outputs": [],
   "source": [
    "from datetime import datetime\n",
    "\n",
    "import matplotlib.pyplot as plt\n",
    "import numpy as np\n",
    "import pandas as pd\n",
    "import talib\n",
    "import talib as ta\n",
    "import tensorflow as tf\n",
    "import yfinance as yf\n",
    "from sklearn.model_selection import train_test_split\n",
    "from sklearn.preprocessing import MinMaxScaler\n",
    "from ta import add_all_ta_features\n",
    "from tensorflow.keras.layers import LSTM, Dense, Dropout\n",
    "from tensorflow.keras.models import Sequential"
   ]
  },
  {
   "cell_type": "code",
   "execution_count": 74,
   "metadata": {},
   "outputs": [
    {
     "name": "stdout",
     "output_type": "stream",
     "text": [
      "Num GPUs Available:  0\n"
     ]
    }
   ],
   "source": [
    "print(\"Num GPUs Available: \", len(tf.config.list_physical_devices('GPU')))"
   ]
  },
  {
   "cell_type": "code",
   "execution_count": 75,
   "metadata": {},
   "outputs": [],
   "source": [
    "# Load the Bitcoin price data\n",
    "bitcoin_data = pd.read_csv(r'C:\\Users\\MrBios\\Documents\\Development\\test\\csv\\bitstampUSD_1-min_data_2012-01-01_to_2021-03-31.csv')  # Replace \"bitcoin_data.csv\" with your actual data file\n",
    "bitcoin_data.dropna(inplace=True)"
   ]
  },
  {
   "cell_type": "code",
   "execution_count": 76,
   "metadata": {},
   "outputs": [],
   "source": [
    "# Calculate technical indicators using TA-Lib\n",
    "bitcoin_data[\"RSI\"] = talib.RSI(bitcoin_data[\"Close\"])\n",
    "bitcoin_data[\"MACD\"], bitcoin_data[\"MACD_SIGNAL\"], _ = talib.MACD(bitcoin_data[\"Close\"])"
   ]
  },
  {
   "cell_type": "code",
   "execution_count": 77,
   "metadata": {},
   "outputs": [],
   "source": [
    "# remove timestamp column\n",
    "bitcoin_data.drop(columns=[\"Timestamp\"], inplace=True)"
   ]
  },
  {
   "cell_type": "code",
   "execution_count": 78,
   "metadata": {},
   "outputs": [],
   "source": [
    "# Prepare the data for training\n",
    "scaler = MinMaxScaler(feature_range=(0, 1))\n",
    "scaled_data = scaler.fit_transform(bitcoin_data[[\"Close\", \"RSI\", \"MACD\", \"MACD_SIGNAL\"]])\n"
   ]
  },
  {
   "cell_type": "code",
   "execution_count": 79,
   "metadata": {},
   "outputs": [],
   "source": [
    "\n",
    "# Create sequences of data with a given time step\n",
    "time_step = 60  # Number of previous time steps to consider for predicting the next time step\n",
    "X = []\n",
    "y = []\n",
    "for i in range(time_step, len(scaled_data)):\n",
    "    X.append(scaled_data[i - time_step:i, 1:])\n",
    "    y.append(scaled_data[i, 0])\n",
    "X = np.array(X)\n",
    "y = np.array(y)\n",
    "\n",
    "# Split the data into training and testing sets\n",
    "X_train, X_test, y_train, y_test = train_test_split(X, y, test_size=0.2, random_state=42)"
   ]
  }
 ],
 "metadata": {
  "kernelspec": {
   "display_name": "Python 3",
   "language": "python",
   "name": "python3"
  },
  "language_info": {
   "codemirror_mode": {
    "name": "ipython",
    "version": 3
   },
   "file_extension": ".py",
   "mimetype": "text/x-python",
   "name": "python",
   "nbconvert_exporter": "python",
   "pygments_lexer": "ipython3",
   "version": "3.9.13"
  },
  "orig_nbformat": 4
 },
 "nbformat": 4,
 "nbformat_minor": 2
}
