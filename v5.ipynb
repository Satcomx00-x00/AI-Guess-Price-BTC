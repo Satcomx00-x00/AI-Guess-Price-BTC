{
 "cells": [
  {
   "cell_type": "code",
   "execution_count": 1,
   "metadata": {},
   "outputs": [],
   "source": [
    "import os\n",
    "import numpy as np\n",
    "import pandas as pd\n",
    "import matplotlib.pyplot as plt\n",
    "from sklearn.preprocessing import MinMaxScaler\n",
    "from sklearn.metrics import mean_squared_error\n",
    "from tensorflow.keras.models import Sequential\n",
    "from tensorflow.keras.layers import LSTM, Dense, Dropout\n",
    "from sklearn.model_selection import train_test_split\n",
    "from datetime import datetime\n",
    "import ta\n",
    "import joblib\n",
    "# import tensorflow.compat.v1.keras.layers.CuDNNLSTM as CuDNNLSTM"
   ]
  },
  {
   "cell_type": "code",
   "execution_count": 2,
   "metadata": {},
   "outputs": [
    {
     "name": "stdout",
     "output_type": "stream",
     "text": [
      "1 Physical GPUs, 1 Logical GPU\n"
     ]
    }
   ],
   "source": [
    "import tensorflow as tf\n",
    "\n",
    "# Set TensorFlow to only allocate memory on the GPU when needed\n",
    "gpus = tf.config.list_physical_devices('GPU')\n",
    "if gpus:\n",
    "    try:\n",
    "        # Restrict TensorFlow to only use the first GPU\n",
    "        tf.config.set_visible_devices(gpus[0], 'GPU')\n",
    "        logical_gpus = tf.config.list_logical_devices('GPU')\n",
    "        print(len(gpus), \"Physical GPUs,\", len(logical_gpus), \"Logical GPU\")\n",
    "    except RuntimeError as e:\n",
    "        print(e)"
   ]
  },
  {
   "cell_type": "code",
   "execution_count": 3,
   "metadata": {},
   "outputs": [],
   "source": [
    "# Load the Bitcoin price data\n",
    "bitcoin_data = pd.read_csv(r'C:\\Users\\MrBios\\Documents\\Development\\IA-BTC-2023\\csv\\bitstampUSD_1-min_data_2012-01-01_to_2021-03-31.csv')\n",
    "\n",
    "# Drop missing values\n",
    "bitcoin_data.dropna(inplace=True)\n"
   ]
  },
  {
   "cell_type": "code",
   "execution_count": 4,
   "metadata": {},
   "outputs": [],
   "source": [
    "# Keep the necessary columns\n",
    "bitcoin_data = bitcoin_data[['Timestamp', 'Open', 'High', 'Low', 'Close', 'Volume_(BTC)','Volume_(Currency)' ,'Volume_(Currency)']]\n",
    "bitcoin_data = bitcoin_data.tail(2000)"
   ]
  },
  {
   "cell_type": "code",
   "execution_count": 5,
   "metadata": {},
   "outputs": [],
   "source": [
    "# Convert Timestamp to datetime format\n",
    "bitcoin_data['Timestamp'] = pd.to_datetime(bitcoin_data['Timestamp'], unit='s')\n"
   ]
  },
  {
   "cell_type": "code",
   "execution_count": 6,
   "metadata": {},
   "outputs": [],
   "source": [
    "# Compute RSI\n",
    "bitcoin_data['RSI'] = ta.momentum.rsi(close=bitcoin_data[\"Close\"], fillna=True)\n",
    "\n",
    "# Compute MACD\n",
    "bitcoin_data['MACD'] = ta.trend.macd(close=bitcoin_data[\"Close\"], fillna=True)\n",
    "bitcoin_data['MACD_signal'] = ta.trend.macd_signal(close=bitcoin_data[\"Close\"], fillna=True)\n",
    "bitcoin_data['MACD_diff'] = ta.trend.macd_diff(close=bitcoin_data[\"Close\"], fillna=True)\n"
   ]
  },
  {
   "cell_type": "code",
   "execution_count": 7,
   "metadata": {},
   "outputs": [],
   "source": [
    "# Prepare the data for training\n",
    "scaler = MinMaxScaler(feature_range=(0, 1))\n",
    "scaled_data = scaler.fit_transform(bitcoin_data[['Open', 'High', 'Low', 'Close', 'Volume_(BTC)', 'RSI', 'MACD', 'MACD_signal', 'MACD_diff']])\n"
   ]
  },
  {
   "cell_type": "code",
   "execution_count": 8,
   "metadata": {},
   "outputs": [],
   "source": [
    "timeframe = 60\n",
    "X = []\n",
    "y = []\n",
    "for i in range(timeframe, len(scaled_data) - 10):\n",
    "    X.append(scaled_data[i - timeframe:i, :])\n",
    "    y.append(scaled_data[i:i + 10, 3])  # Predicting the 'Close' column\n",
    "X = np.array(X)\n",
    "y = np.array(y)"
   ]
  },
  {
   "cell_type": "code",
   "execution_count": 9,
   "metadata": {},
   "outputs": [
    {
     "data": {
      "text/plain": [
       "((930, 60, 9), (930, 10))"
      ]
     },
     "execution_count": 9,
     "metadata": {},
     "output_type": "execute_result"
    }
   ],
   "source": [
    "X.shape, y.shape"
   ]
  },
  {
   "cell_type": "code",
   "execution_count": 10,
   "metadata": {},
   "outputs": [],
   "source": [
    "# Split the data into training and testing sets\n",
    "X_train, X_test, y_train, y_test = train_test_split(X, y, test_size=0.2, random_state=42)"
   ]
  },
  {
   "cell_type": "code",
   "execution_count": 11,
   "metadata": {},
   "outputs": [],
   "source": [
    "# save train and test variables\n",
    "np.save('V5/X_train.npy', X_train)\n",
    "np.save('V5/X_test.npy', X_test)\n",
    "np.save('V5/y_train.npy', y_train)\n",
    "np.save('V5/y_test.npy', y_test)\n",
    "# save scaler\n",
    "np.save('V5/scalerv5.npy', scaler)"
   ]
  },
  {
   "cell_type": "code",
   "execution_count": 12,
   "metadata": {},
   "outputs": [],
   "source": [
    "# Build the LSTM model\n",
    "model = Sequential()\n",
    "model.add(LSTM(units=50, return_sequences=True, input_shape=(X_train.shape[1], X_train.shape[2])))\n",
    "model.add(Dropout(0.2))\n",
    "model.add(LSTM(units=50, return_sequences=True))\n",
    "model.add(Dropout(0.2))\n",
    "model.add(LSTM(units=50))\n",
    "model.add(Dropout(0.2))\n",
    "model.add(Dense(units=y_train.shape[1]))\n"
   ]
  },
  {
   "cell_type": "code",
   "execution_count": 13,
   "metadata": {},
   "outputs": [
    {
     "data": {
      "text/plain": [
       "10"
      ]
     },
     "execution_count": 13,
     "metadata": {},
     "output_type": "execute_result"
    }
   ],
   "source": [
    "y_train.shape[1]"
   ]
  },
  {
   "cell_type": "code",
   "execution_count": 14,
   "metadata": {},
   "outputs": [],
   "source": [
    "# Compile the model\n",
    "model.compile(optimizer='adam', loss='mean_squared_error')"
   ]
  },
  {
   "cell_type": "code",
   "execution_count": 19,
   "metadata": {},
   "outputs": [
    {
     "name": "stdout",
     "output_type": "stream",
     "text": [
      "Epoch 1/50\n",
      "12/12 [==============================] - 0s 18ms/step - loss: 0.0088 - val_loss: 0.0060\n",
      "Epoch 2/50\n",
      "12/12 [==============================] - 0s 14ms/step - loss: 0.0084 - val_loss: 0.0056\n",
      "Epoch 3/50\n",
      "12/12 [==============================] - 0s 13ms/step - loss: 0.0085 - val_loss: 0.0058\n",
      "Epoch 4/50\n",
      "12/12 [==============================] - 0s 13ms/step - loss: 0.0079 - val_loss: 0.0061\n",
      "Epoch 5/50\n",
      "12/12 [==============================] - 0s 14ms/step - loss: 0.0079 - val_loss: 0.0059\n",
      "Epoch 6/50\n",
      "12/12 [==============================] - 0s 13ms/step - loss: 0.0089 - val_loss: 0.0071\n",
      "Epoch 7/50\n",
      "12/12 [==============================] - 0s 13ms/step - loss: 0.0084 - val_loss: 0.0055\n",
      "Epoch 8/50\n",
      "12/12 [==============================] - 0s 13ms/step - loss: 0.0083 - val_loss: 0.0058\n",
      "Epoch 9/50\n",
      "12/12 [==============================] - 0s 13ms/step - loss: 0.0083 - val_loss: 0.0055\n",
      "Epoch 10/50\n",
      "12/12 [==============================] - 0s 13ms/step - loss: 0.0084 - val_loss: 0.0054\n",
      "Epoch 11/50\n",
      "12/12 [==============================] - 0s 12ms/step - loss: 0.0083 - val_loss: 0.0055\n",
      "Epoch 12/50\n",
      "12/12 [==============================] - 0s 13ms/step - loss: 0.0081 - val_loss: 0.0056\n",
      "Epoch 13/50\n",
      "12/12 [==============================] - 0s 12ms/step - loss: 0.0082 - val_loss: 0.0053\n",
      "Epoch 14/50\n",
      "12/12 [==============================] - 0s 12ms/step - loss: 0.0076 - val_loss: 0.0053\n",
      "Epoch 15/50\n",
      "12/12 [==============================] - 0s 12ms/step - loss: 0.0079 - val_loss: 0.0060\n",
      "Epoch 16/50\n",
      "12/12 [==============================] - 0s 12ms/step - loss: 0.0085 - val_loss: 0.0055\n",
      "Epoch 17/50\n",
      "12/12 [==============================] - 0s 13ms/step - loss: 0.0075 - val_loss: 0.0053\n",
      "Epoch 18/50\n",
      "12/12 [==============================] - 0s 13ms/step - loss: 0.0075 - val_loss: 0.0054\n",
      "Epoch 19/50\n",
      "12/12 [==============================] - 0s 12ms/step - loss: 0.0074 - val_loss: 0.0053\n",
      "Epoch 20/50\n",
      "12/12 [==============================] - 0s 12ms/step - loss: 0.0073 - val_loss: 0.0062\n",
      "Epoch 21/50\n",
      "12/12 [==============================] - 0s 13ms/step - loss: 0.0078 - val_loss: 0.0058\n",
      "Epoch 22/50\n",
      "12/12 [==============================] - 0s 13ms/step - loss: 0.0078 - val_loss: 0.0054\n",
      "Epoch 23/50\n",
      "12/12 [==============================] - 0s 13ms/step - loss: 0.0072 - val_loss: 0.0061\n",
      "Epoch 24/50\n",
      "12/12 [==============================] - 0s 14ms/step - loss: 0.0071 - val_loss: 0.0055\n",
      "Epoch 25/50\n",
      "12/12 [==============================] - 0s 12ms/step - loss: 0.0075 - val_loss: 0.0053\n",
      "Epoch 26/50\n",
      "12/12 [==============================] - 0s 12ms/step - loss: 0.0079 - val_loss: 0.0059\n",
      "Epoch 27/50\n",
      "12/12 [==============================] - 0s 12ms/step - loss: 0.0075 - val_loss: 0.0051\n",
      "Epoch 28/50\n",
      "12/12 [==============================] - 0s 13ms/step - loss: 0.0068 - val_loss: 0.0056\n",
      "Epoch 29/50\n",
      "12/12 [==============================] - 0s 15ms/step - loss: 0.0069 - val_loss: 0.0051\n",
      "Epoch 30/50\n",
      "12/12 [==============================] - 0s 13ms/step - loss: 0.0068 - val_loss: 0.0052\n",
      "Epoch 31/50\n",
      "12/12 [==============================] - 0s 12ms/step - loss: 0.0068 - val_loss: 0.0052\n",
      "Epoch 32/50\n",
      "12/12 [==============================] - 0s 13ms/step - loss: 0.0068 - val_loss: 0.0050\n",
      "Epoch 33/50\n",
      "12/12 [==============================] - 0s 12ms/step - loss: 0.0066 - val_loss: 0.0052\n",
      "Epoch 34/50\n",
      "12/12 [==============================] - 0s 13ms/step - loss: 0.0066 - val_loss: 0.0050\n",
      "Epoch 35/50\n",
      "12/12 [==============================] - 0s 12ms/step - loss: 0.0069 - val_loss: 0.0053\n",
      "Epoch 36/50\n",
      "12/12 [==============================] - 0s 12ms/step - loss: 0.0066 - val_loss: 0.0059\n",
      "Epoch 37/50\n",
      "12/12 [==============================] - 0s 12ms/step - loss: 0.0072 - val_loss: 0.0056\n",
      "Epoch 38/50\n",
      "12/12 [==============================] - 0s 12ms/step - loss: 0.0068 - val_loss: 0.0052\n",
      "Epoch 39/50\n",
      "12/12 [==============================] - 0s 13ms/step - loss: 0.0062 - val_loss: 0.0049\n",
      "Epoch 40/50\n",
      "12/12 [==============================] - 0s 13ms/step - loss: 0.0063 - val_loss: 0.0053\n",
      "Epoch 41/50\n",
      "12/12 [==============================] - 0s 13ms/step - loss: 0.0069 - val_loss: 0.0050\n",
      "Epoch 42/50\n",
      "12/12 [==============================] - 0s 13ms/step - loss: 0.0065 - val_loss: 0.0048\n",
      "Epoch 43/50\n",
      "12/12 [==============================] - 0s 12ms/step - loss: 0.0061 - val_loss: 0.0051\n",
      "Epoch 44/50\n",
      "12/12 [==============================] - 0s 12ms/step - loss: 0.0063 - val_loss: 0.0052\n",
      "Epoch 45/50\n",
      "12/12 [==============================] - 0s 13ms/step - loss: 0.0062 - val_loss: 0.0048\n",
      "Epoch 46/50\n",
      "12/12 [==============================] - 0s 13ms/step - loss: 0.0063 - val_loss: 0.0058\n",
      "Epoch 47/50\n",
      "12/12 [==============================] - 0s 13ms/step - loss: 0.0070 - val_loss: 0.0048\n",
      "Epoch 48/50\n",
      "12/12 [==============================] - 0s 13ms/step - loss: 0.0061 - val_loss: 0.0055\n",
      "Epoch 49/50\n",
      "12/12 [==============================] - 0s 12ms/step - loss: 0.0066 - val_loss: 0.0049\n",
      "Epoch 50/50\n",
      "12/12 [==============================] - 0s 13ms/step - loss: 0.0063 - val_loss: 0.0047\n"
     ]
    },
    {
     "data": {
      "text/plain": [
       "<keras.callbacks.History at 0x1cc50552670>"
      ]
     },
     "execution_count": 19,
     "metadata": {},
     "output_type": "execute_result"
    }
   ],
   "source": [
    "# Train the model\n",
    "model.fit(X_train, y_train, epochs=50, batch_size=64, validation_data=(X_test, y_test))"
   ]
  },
  {
   "cell_type": "code",
   "execution_count": 16,
   "metadata": {},
   "outputs": [
    {
     "data": {
      "text/plain": [
       "['V5/models/V5-scaler.joblib']"
      ]
     },
     "execution_count": 16,
     "metadata": {},
     "output_type": "execute_result"
    }
   ],
   "source": [
    "# Save the model and weights\n",
    "version = \"V5\"\n",
    "now = datetime.now()\n",
    "format_date = now.strftime(\"%Y-%m-%d-%H-%M\")\n",
    "model.save(f'{version}/models/{version}-model.h5')\n",
    "model.save_weights(f'{version}/models/{version}-weights.h5')\n",
    "\n",
    "# Save the scaler\n",
    "scaler_filename = f'{version}/models/{version}-scaler.joblib'\n",
    "joblib.dump(scaler, scaler_filename)"
   ]
  },
  {
   "cell_type": "code",
   "execution_count": 17,
   "metadata": {},
   "outputs": [
    {
     "name": "stdout",
     "output_type": "stream",
     "text": [
      "6/6 [==============================] - 0s 4ms/step\n"
     ]
    }
   ],
   "source": [
    "# Make predictions\n",
    "predictions = model.predict(X_test)"
   ]
  },
  {
   "cell_type": "code",
   "execution_count": 20,
   "metadata": {},
   "outputs": [
    {
     "ename": "ValueError",
     "evalue": "operands could not be broadcast together with shapes (186,10) (9,) (186,10) ",
     "output_type": "error",
     "traceback": [
      "\u001b[1;31m---------------------------------------------------------------------------\u001b[0m",
      "\u001b[1;31mValueError\u001b[0m                                Traceback (most recent call last)",
      "Cell \u001b[1;32mIn[20], line 3\u001b[0m\n\u001b[0;32m      1\u001b[0m \u001b[39m# Scale the predictions back to original values\u001b[39;00m\n\u001b[0;32m      2\u001b[0m num_features \u001b[39m=\u001b[39m scaled_data\u001b[39m.\u001b[39mshape[\u001b[39m1\u001b[39m]\n\u001b[1;32m----> 3\u001b[0m predictions \u001b[39m=\u001b[39m scaler\u001b[39m.\u001b[39;49minverse_transform(predictions)  \u001b[39m# Reshape to match the expected shape\u001b[39;00m\n",
      "File \u001b[1;32mc:\\Users\\MrBios\\AppData\\Local\\Programs\\Python\\Python38\\lib\\site-packages\\sklearn\\preprocessing\\_data.py:541\u001b[0m, in \u001b[0;36mMinMaxScaler.inverse_transform\u001b[1;34m(self, X)\u001b[0m\n\u001b[0;32m    535\u001b[0m check_is_fitted(\u001b[39mself\u001b[39m)\n\u001b[0;32m    537\u001b[0m X \u001b[39m=\u001b[39m check_array(\n\u001b[0;32m    538\u001b[0m     X, copy\u001b[39m=\u001b[39m\u001b[39mself\u001b[39m\u001b[39m.\u001b[39mcopy, dtype\u001b[39m=\u001b[39mFLOAT_DTYPES, force_all_finite\u001b[39m=\u001b[39m\u001b[39m\"\u001b[39m\u001b[39mallow-nan\u001b[39m\u001b[39m\"\u001b[39m\n\u001b[0;32m    539\u001b[0m )\n\u001b[1;32m--> 541\u001b[0m X \u001b[39m-\u001b[39m\u001b[39m=\u001b[39m \u001b[39mself\u001b[39m\u001b[39m.\u001b[39mmin_\n\u001b[0;32m    542\u001b[0m X \u001b[39m/\u001b[39m\u001b[39m=\u001b[39m \u001b[39mself\u001b[39m\u001b[39m.\u001b[39mscale_\n\u001b[0;32m    543\u001b[0m \u001b[39mreturn\u001b[39;00m X\n",
      "\u001b[1;31mValueError\u001b[0m: operands could not be broadcast together with shapes (186,10) (9,) (186,10) "
     ]
    }
   ],
   "source": [
    "# Scale the predictions back to original values\n",
    "num_features = scaled_data.shape[1]\n",
    "predictions = scaler.inverse_transform(predictions.reshape(-1, 10))  # Reshape to match the expected shape\n"
   ]
  },
  {
   "cell_type": "code",
   "execution_count": null,
   "metadata": {},
   "outputs": [],
   "source": [
    "# predict the rsi and macd\n",
    "rsi_predictions = predictions[:, 6]\n",
    "macd_predictions = predictions[:, 7]\n",
    "print(rsi_predictions)\n",
    "print(macd_predictions)"
   ]
  },
  {
   "cell_type": "code",
   "execution_count": null,
   "metadata": {},
   "outputs": [],
   "source": [
    "# Evaluate the model\n",
    "rmse = np.sqrt(mean_squared_error(y_test, predictions))\n",
    "print(\"Root Mean Squared Error (RMSE):\", rmse)\n"
   ]
  },
  {
   "cell_type": "code",
   "execution_count": null,
   "metadata": {},
   "outputs": [],
   "source": [
    "# Scale the predictions back to original values\n",
    "predictions = scaler.inverse_transform(predictions)\n",
    "# Evaluate the model\n",
    "rmse = np.sqrt(mean_squared_error(y_test, predictions))\n",
    "print(\"Root Mean Squared Error (RMSE):\", rmse)\n"
   ]
  },
  {
   "cell_type": "code",
   "execution_count": null,
   "metadata": {},
   "outputs": [],
   "source": [
    "# Plot the actual and predicted values\n",
    "fig, (ax1, ax2) = plt.subplots(2, 1, figsize=(10, 8))\n",
    "ax1.plot(y_test[0], label='Actual')\n",
    "ax1.set_title('Actual Bitcoin Price')\n",
    "ax1.set_xlabel('Time')\n",
    "ax1.set_ylabel('Price')\n",
    "ax1.legend()\n",
    "\n",
    "ax2.plot(predictions[0], label='Predicted')\n",
    "ax2.set_title('Predicted Bitcoin Price')\n",
    "ax2.set_xlabel('Time')\n",
    "ax2.set_ylabel('Price')\n",
    "ax2.legend()\n",
    "\n",
    "plt.tight_layout()\n",
    "plt.show()"
   ]
  },
  {
   "cell_type": "code",
   "execution_count": null,
   "metadata": {},
   "outputs": [],
   "source": [
    "import yfinance as yf\n",
    "from datetime import datetime\n",
    "import numpy as np\n",
    "from datetime import datetime, timedelta\n",
    "import ccxt"
   ]
  },
  {
   "cell_type": "code",
   "execution_count": null,
   "metadata": {},
   "outputs": [],
   "source": [
    "timeframe = '1m'\n",
    "symbol = 'BTC/USDT'\n",
    "minutes = 60 \n",
    "since = datetime.now() - timedelta(minutes=minutes)\n",
    "since = int(since.timestamp() * 1000)\n",
    "limit = minutes+1\n",
    "show_more_graph = False"
   ]
  },
  {
   "cell_type": "code",
   "execution_count": null,
   "metadata": {},
   "outputs": [],
   "source": [
    "# downloade the data with yfinance, get the last 2 hours\n",
    "# last_60_minutes = yf.download(tickers='BTC-USD', period='7d', interval='1m')\n",
    "# use ccxt to get the last 2 hours\n",
    "exchange = ccxt.binance()\n",
    "last_60_minutes = exchange.fetch_ohlcv('BTC/USDT', timeframe=timeframe, since=since, limit=limit)\n",
    "last_60_minutes = pd.DataFrame(last_60_minutes, columns=['Timestamp', 'Open', 'High', 'Low', 'Close', 'Volume'])\n",
    "last_60_minutes['Timestamp'] = pd.to_datetime(last_60_minutes['Timestamp'], unit='ms')\n",
    "last_60_minutes.set_index('Timestamp', inplace=True)\n",
    "last_60_minutes.index = last_60_minutes.index + pd.DateOffset(hours=2)\n",
    "last_60_minutes.tail(1)"
   ]
  },
  {
   "cell_type": "code",
   "execution_count": null,
   "metadata": {},
   "outputs": [],
   "source": [
    "\n",
    "# 2. Scale the data to be values between 0 and 1\n",
    "last_60_minutes_scaled = scaler.fit_transform(last_60_minutes[[\"Close\"]])\n",
    "# 3. Reshape the data into the shape accepted by the LSTM model\n",
    "last_60_minutes_scaled = np.reshape(last_60_minutes_scaled, (1, last_60_minutes_scaled.shape[0], 1)) # cannot reshape array of size 60 into shape (1,1,1)\n",
    "# 4. Make predictions using the LSTM model\n",
    "pred = model.predict(last_60_minutes_scaled)\n",
    "pred = scaler.inverse_transform(pred)"
   ]
  },
  {
   "cell_type": "code",
   "execution_count": null,
   "metadata": {},
   "outputs": [],
   "source": [
    "pred.mean()\n",
    "pred_time = pd.date_range(start=last_60_minutes.index[-1], periods=len(pred[0]) + 1, freq='1min')"
   ]
  },
  {
   "cell_type": "code",
   "execution_count": null,
   "metadata": {},
   "outputs": [],
   "source": [
    "# at what time will the price be at the predicted price\n",
    "print(\"The Bitcoin price will be at {} at {}.\".format(pred[0][-1], pred_time[-1]))\n",
    "# add a what time the prediction started\n",
    "print(\"The prediction started at {}.\".format(pred_time[0]))\n",
    "print(\"The Bitcoin price was at {} at {}.\".format(last_60_minutes[\"Close\"].iloc[-1], last_60_minutes.index[-1]))"
   ]
  },
  {
   "cell_type": "code",
   "execution_count": null,
   "metadata": {},
   "outputs": [],
   "source": [
    "import matplotlib.dates as mdates\n",
    "\n",
    "# Create a single subplot for both actual and predicted values\n",
    "fig, ax = plt.subplots(figsize=(10, 8))\n",
    "\n",
    "last_amount_of_points = -50\n",
    "# Plot the actual values for the last 100 data points\n",
    "ax.plot(last_60_minutes.index[last_amount_of_points:], last_60_minutes[\"Close\"].tail(last_amount_of_points * -1), label='Actual')\n",
    "ax.grid(True)\n",
    "ax.set_title(f'{symbol} Price in {timeframe} Intervals')\n",
    "ax.set_xlabel('Time')\n",
    "pair = symbol.split('/')\n",
    "ax.set_ylabel('Price in ' + pair[1])\n",
    "\n",
    "# Plot all the predicted values\n",
    "pred_time = pd.date_range(start=last_60_minutes.index[-1], periods=len(pred[0]) + 1, freq='1min')\n",
    "pred_values = np.concatenate(([last_60_minutes[\"Close\"].iloc[-1]], pred[0]))\n",
    "ax.plot(pred_time, pred_values, label='Predicted')\n",
    "\n",
    "# Format the tick labels to display numbers in regular format\n",
    "ax.get_yaxis().get_major_formatter().set_useOffset(False)\n",
    "\n",
    "# Set the x-axis limits to show both actual and predicted values\n",
    "ax.set_xlim(last_60_minutes.index[last_amount_of_points], pred_time[-1])\n",
    "\n",
    "# Format the tick labels with additional minutes information\n",
    "ax.xaxis.set_major_formatter(mdates.DateFormatter('%m-%d %H:%M'))\n",
    "ax.xaxis.set_minor_formatter(mdates.DateFormatter('%M'))\n",
    "# Rotate the x-axis tick labels\n",
    "ax.xaxis.set_tick_params(rotation=45)\n",
    "\n",
    "# Display the mean value of pred\n",
    "mean_pred = pred.mean()\n",
    "ax.text(pred_time[-1], mean_pred, f\"Mean: {mean_pred:.2f}\", verticalalignment='bottom')\n",
    "\n",
    "# Display the legend\n",
    "ax.legend()\n",
    "\n",
    "# Display the plot\n",
    "plt.tight_layout()\n",
    "plt.show()\n"
   ]
  }
 ],
 "metadata": {
  "kernelspec": {
   "display_name": "base",
   "language": "python",
   "name": "python3"
  },
  "language_info": {
   "codemirror_mode": {
    "name": "ipython",
    "version": 3
   },
   "file_extension": ".py",
   "mimetype": "text/x-python",
   "name": "python",
   "nbconvert_exporter": "python",
   "pygments_lexer": "ipython3",
   "version": "3.8.10"
  },
  "orig_nbformat": 4
 },
 "nbformat": 4,
 "nbformat_minor": 2
}
